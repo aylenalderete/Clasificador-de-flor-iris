{
 "cells": [
  {
   "cell_type": "code",
   "execution_count": 1,
   "id": "94cfa375",
   "metadata": {},
   "outputs": [],
   "source": [
    "from sklearn import datasets, linear_model\n",
    "from sklearn.model_selection import train_test_split\n",
    "import joblib"
   ]
  },
  {
   "cell_type": "code",
   "execution_count": 2,
   "id": "f4c2a01f",
   "metadata": {},
   "outputs": [],
   "source": [
    "clf = joblib.load('modelo_entrenado.pkl')"
   ]
  },
  {
   "cell_type": "code",
   "execution_count": 3,
   "id": "622bc033",
   "metadata": {},
   "outputs": [],
   "source": [
    "import pandas as pd\n",
    "iris = pd.read_csv('iris_.csv')"
   ]
  },
  {
   "cell_type": "code",
   "execution_count": 8,
   "id": "0df9bd04",
   "metadata": {},
   "outputs": [
    {
     "data": {
      "text/plain": [
       "array(['Iris-versicolor'], dtype=object)"
      ]
     },
     "execution_count": 8,
     "metadata": {},
     "output_type": "execute_result"
    }
   ],
   "source": [
    "clf.predict([[3.5, 1.5, 4.6, 1.2]])"
   ]
  },
  {
   "cell_type": "code",
   "execution_count": null,
   "id": "33331df0",
   "metadata": {},
   "outputs": [],
   "source": []
  }
 ],
 "metadata": {
  "kernelspec": {
   "display_name": "Python 3 (ipykernel)",
   "language": "python",
   "name": "python3"
  },
  "language_info": {
   "codemirror_mode": {
    "name": "ipython",
    "version": 3
   },
   "file_extension": ".py",
   "mimetype": "text/x-python",
   "name": "python",
   "nbconvert_exporter": "python",
   "pygments_lexer": "ipython3",
   "version": "3.9.7"
  }
 },
 "nbformat": 4,
 "nbformat_minor": 5
}
